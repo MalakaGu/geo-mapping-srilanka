{
 "cells": [
  {
   "cell_type": "markdown",
   "metadata": {
    "_cell_guid": "79c7e3d0-c299-4dcb-8224-4455121ee9b0",
    "_uuid": "d629ff2d2480ee46fbb7e2d37f6b5fab8052498a",
    "collapsed": true
   },
   "source": [
    "# Interactive choropleth maps  with Python and Folium for Srilanka (Divisional secretariat level) "
   ]
  },
  {
   "cell_type": "code",
   "execution_count": null,
   "metadata": {},
   "outputs": [],
   "source": [
    "#Let's import libraries we need\n",
    "import pandas as pd\n",
    "import geopandas as gpd\n",
    "import folium"
   ]
  },
  {
   "cell_type": "code",
   "execution_count": null,
   "metadata": {},
   "outputs": [],
   "source": [
    "# importing geo json files \n",
    "dsg=gpd.read_file('Divisional_geo.json')"
   ]
  },
  {
   "cell_type": "code",
   "execution_count": null,
   "metadata": {},
   "outputs": [],
   "source": [
    "# loading first two rows of the data set\n",
    "dsg.head(2)"
   ]
  },
  {
   "cell_type": "code",
   "execution_count": null,
   "metadata": {},
   "outputs": [],
   "source": [
    "#removing other data except \"ADM3_PCODE\" and \"geometry\"\n",
    "dsg=dsg[['ADM3_PCODE','geometry']]"
   ]
  },
  {
   "cell_type": "code",
   "execution_count": null,
   "metadata": {},
   "outputs": [],
   "source": [
    "# loading aditional data\n",
    "ds_a=pd.read_csv('ds_aditional_data.csv')\n",
    "ds_a.rename(columns={'admin3Pcode':'ADM3_PCODE'}, inplace=True)\n",
    "ds_a.head()"
   ]
  },
  {
   "cell_type": "code",
   "execution_count": null,
   "metadata": {},
   "outputs": [],
   "source": [
    "divisional=dsg.merge(ds_a,on=\"ADM3_PCODE\")\n",
    "divisional.head()"
   ]
  },
  {
   "cell_type": "code",
   "execution_count": null,
   "metadata": {},
   "outputs": [],
   "source": [
    "# Defining the style function and Highlight function \n",
    "\n",
    "style_function = lambda x: {'fillColor': '#ffffff', \n",
    "                            'color':'#000000', \n",
    "                            'fillOpacity': 0.1, \n",
    "                            'weight': 0.1}\n",
    "highlight_function = lambda x: {'fillColor': '#000000', \n",
    "                                'color':'#000000', \n",
    "                                'fillOpacity': 0.50, \n",
    "                                'weight': 0.1}\n",
    "\n",
    "\n",
    "\n",
    "# declaring the map with starting point\n",
    "m = folium.Map(location=[7.8731, 80.7718], zoom_start=8)\n",
    "\n",
    "choropleth=folium.Choropleth(\n",
    "    geo_data=divisional,\n",
    "    name='choropleth',\n",
    "    data= divisional,\n",
    "    columns=['ADM3_PCODE', 'risk_level'],\n",
    "    key_on='properties.ADM3_PCODE',\n",
    "    fill_color='RdPu',\n",
    "    fill_opacity=0.7,\n",
    "    line_opacity=0.2,\n",
    "    \n",
    "    legend_name='Covid-19 risk Level with dummy data',\n",
    "\n",
    ").add_to(m)\n",
    "\n",
    "# adding some geo loacation (location pins )\n",
    "\n",
    "folium.Marker(\n",
    "    location=[6.905655, 79.927357],\n",
    "    popup='Point one',\n",
    "    \n",
    "    icon=folium.Icon(icon='cloud')\n",
    ").add_to(m)\n",
    "\n",
    "folium.Marker(\n",
    "    location=[6.7106,79.9074],\n",
    "    popup='Point two',\n",
    "    icon=folium.Icon(color='red', icon='info-sign')\n",
    ").add_to(m)\n",
    "\n",
    "folium.Marker(\n",
    "    location=[7.9403,81.01886823],\n",
    "    popup='Point three',\n",
    "    icon=folium.Icon(color='blue', icon='bar-chart')\n",
    ").add_to(m)\n",
    "\n",
    "folium.Marker(\n",
    "    location=[9.3803, 80.3770],\n",
    "    popup='Point four',\n",
    "    icon=folium.Icon(color='red', icon='university')\n",
    ").add_to(m)\n",
    "\n",
    "#adding the same geo layer again on top of previouse layer to make interactivity \n",
    "\n",
    "INT = folium.features.GeoJson(\n",
    "    divisional,\n",
    "    style_function=style_function, \n",
    "    control=False,\n",
    "    highlight_function=highlight_function, \n",
    "    tooltip=folium.features.GeoJsonTooltip(\n",
    "        fields=['admin3Name_en','patients','population'],\n",
    "        aliases=['District: ','Numer of Patients:','Population'],\n",
    "        style=(\"background-color: white; color: #333333; font-family: arial; font-size: 12px; padding: 10px;\") \n",
    "    )\n",
    ")\n",
    "m.add_child(INT)\n",
    "m.keep_in_front(INT)\n",
    "folium.LayerControl().add_to(m)\n"
   ]
  },
  {
   "cell_type": "code",
   "execution_count": null,
   "metadata": {},
   "outputs": [],
   "source": [
    "m.save('divisional.html')\n",
    "#m.save('divisional_img.png')\n"
   ]
  }
 ],
 "metadata": {
  "kernelspec": {
   "display_name": "Python 3",
   "language": "python",
   "name": "python3"
  },
  "language_info": {
   "codemirror_mode": {
    "name": "ipython",
    "version": 3
   },
   "file_extension": ".py",
   "mimetype": "text/x-python",
   "name": "python",
   "nbconvert_exporter": "python",
   "pygments_lexer": "ipython3",
   "version": "3.7.1"
  }
 },
 "nbformat": 4,
 "nbformat_minor": 4
}