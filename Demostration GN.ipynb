{
 "cells": [
  {
   "cell_type": "markdown",
   "metadata": {
    "_cell_guid": "79c7e3d0-c299-4dcb-8224-4455121ee9b0",
    "_uuid": "d629ff2d2480ee46fbb7e2d37f6b5fab8052498a",
    "collapsed": true
   },
   "source": [
    "# Interactive choropleth maps with Python and Folium for Srilanka (Grama Niladari Level)"
   ]
  },
  {
   "cell_type": "code",
   "execution_count": 9,
   "metadata": {},
   "outputs": [],
   "source": [
    "#Let's import libraries we need\n",
    "import pandas as pd\n",
    "import geopandas as gpd\n",
    "import folium"
   ]
  },
  {
   "cell_type": "code",
   "execution_count": 10,
   "metadata": {},
   "outputs": [],
   "source": [
    "# importing geo json files \n",
    "gng=gpd.read_file('Grama_geo.json')"
   ]
  },
  {
   "cell_type": "code",
   "execution_count": 11,
   "metadata": {},
   "outputs": [
    {
     "data": {
      "text/plain": "         ADM4_EN       ADM4_SI ADM4_TA ADM4_PCODE ADM4_REF ADM4ALT1EN  \\\n0  04 1/2 Kanuwa      4 ½ කණුව          LK7142090                       \n1   07 Gammanaya  7 වන ගම්මානය          LK6224040                       \n\n  ADM4ALT2EN ADM4ALT1SI ADM4ALT2SI ADM4ALT1TA  ...    ADM0_EN     ADM0_SI  \\\n0                                              ...  Sri Lanka  ශ්‍රී ලංකා   \n1                                              ...  Sri Lanka  ශ්‍රී ලංකා   \n\n  ADM0_TA ADM0_PCODE Shape_Leng Shape_Area                 date  \\\n0  இலங்கை         LK   0.141404    0.00049  2019-03-04T00:00:00   \n1  இலங்கை         LK   0.122450    0.00034  2019-03-04T00:00:00   \n\n               validOn              validTo  \\\n0  2020-03-05T00:00:00  1899-11-30T00:00:00   \n1  2020-03-05T00:00:00  1899-11-30T00:00:00   \n\n                                            geometry  \n0  POLYGON ((80.23123 8.18024, 80.23082 8.18030, ...  \n1  POLYGON ((80.02773 7.95962, 80.02773 7.95962, ...  \n\n[2 rows x 33 columns]",
      "text/html": "<div>\n<style scoped>\n    .dataframe tbody tr th:only-of-type {\n        vertical-align: middle;\n    }\n\n    .dataframe tbody tr th {\n        vertical-align: top;\n    }\n\n    .dataframe thead th {\n        text-align: right;\n    }\n</style>\n<table border=\"1\" class=\"dataframe\">\n  <thead>\n    <tr style=\"text-align: right;\">\n      <th></th>\n      <th>ADM4_EN</th>\n      <th>ADM4_SI</th>\n      <th>ADM4_TA</th>\n      <th>ADM4_PCODE</th>\n      <th>ADM4_REF</th>\n      <th>ADM4ALT1EN</th>\n      <th>ADM4ALT2EN</th>\n      <th>ADM4ALT1SI</th>\n      <th>ADM4ALT2SI</th>\n      <th>ADM4ALT1TA</th>\n      <th>...</th>\n      <th>ADM0_EN</th>\n      <th>ADM0_SI</th>\n      <th>ADM0_TA</th>\n      <th>ADM0_PCODE</th>\n      <th>Shape_Leng</th>\n      <th>Shape_Area</th>\n      <th>date</th>\n      <th>validOn</th>\n      <th>validTo</th>\n      <th>geometry</th>\n    </tr>\n  </thead>\n  <tbody>\n    <tr>\n      <th>0</th>\n      <td>04 1/2 Kanuwa</td>\n      <td>4 ½ කණුව</td>\n      <td></td>\n      <td>LK7142090</td>\n      <td></td>\n      <td></td>\n      <td></td>\n      <td></td>\n      <td></td>\n      <td></td>\n      <td>...</td>\n      <td>Sri Lanka</td>\n      <td>ශ්‍රී ලංකා</td>\n      <td>இலங்கை</td>\n      <td>LK</td>\n      <td>0.141404</td>\n      <td>0.00049</td>\n      <td>2019-03-04T00:00:00</td>\n      <td>2020-03-05T00:00:00</td>\n      <td>1899-11-30T00:00:00</td>\n      <td>POLYGON ((80.23123 8.18024, 80.23082 8.18030, ...</td>\n    </tr>\n    <tr>\n      <th>1</th>\n      <td>07 Gammanaya</td>\n      <td>7 වන ගම්මානය</td>\n      <td></td>\n      <td>LK6224040</td>\n      <td></td>\n      <td></td>\n      <td></td>\n      <td></td>\n      <td></td>\n      <td></td>\n      <td>...</td>\n      <td>Sri Lanka</td>\n      <td>ශ්‍රී ලංකා</td>\n      <td>இலங்கை</td>\n      <td>LK</td>\n      <td>0.122450</td>\n      <td>0.00034</td>\n      <td>2019-03-04T00:00:00</td>\n      <td>2020-03-05T00:00:00</td>\n      <td>1899-11-30T00:00:00</td>\n      <td>POLYGON ((80.02773 7.95962, 80.02773 7.95962, ...</td>\n    </tr>\n  </tbody>\n</table>\n<p>2 rows × 33 columns</p>\n</div>"
     },
     "execution_count": 11,
     "metadata": {},
     "output_type": "execute_result"
    }
   ],
   "source": [
    "# loading first two rows of the data set\n",
    "gng.head(2)"
   ]
  },
  {
   "cell_type": "code",
   "execution_count": 12,
   "metadata": {},
   "outputs": [],
   "source": [
    "#removing other data except \"ADM4_PCODE\" and \"geometry\"\n",
    "gng=gng[['ADM4_PCODE','geometry']]"
   ]
  },
  {
   "cell_type": "code",
   "execution_count": 13,
   "metadata": {},
   "outputs": [
    {
     "data": {
      "text/plain": "     admin4Name_en admin4Name_si ADM4_PCODE  risk_level  patients  population\n0    04 1/2 Kanuwa      4 ½ කණුව  LK7142090         1.0       5.0        60.0\n1     07 Gammanaya  7 වන ගම්මානය  LK6224040         2.0      10.0       120.0\n2           08 Ela        අටේ ඇල  LK2121105         3.0      15.0       180.0\n3  18A. Janapadaya    18 A ජනපදය  LK5242140         4.0      20.0       240.0\n4   2 Ela - Kagama     කාගම ඇල 2  LK7160115         5.0      25.0       300.0",
      "text/html": "<div>\n<style scoped>\n    .dataframe tbody tr th:only-of-type {\n        vertical-align: middle;\n    }\n\n    .dataframe tbody tr th {\n        vertical-align: top;\n    }\n\n    .dataframe thead th {\n        text-align: right;\n    }\n</style>\n<table border=\"1\" class=\"dataframe\">\n  <thead>\n    <tr style=\"text-align: right;\">\n      <th></th>\n      <th>admin4Name_en</th>\n      <th>admin4Name_si</th>\n      <th>ADM4_PCODE</th>\n      <th>risk_level</th>\n      <th>patients</th>\n      <th>population</th>\n    </tr>\n  </thead>\n  <tbody>\n    <tr>\n      <th>0</th>\n      <td>04 1/2 Kanuwa</td>\n      <td>4 ½ කණුව</td>\n      <td>LK7142090</td>\n      <td>1.0</td>\n      <td>5.0</td>\n      <td>60.0</td>\n    </tr>\n    <tr>\n      <th>1</th>\n      <td>07 Gammanaya</td>\n      <td>7 වන ගම්මානය</td>\n      <td>LK6224040</td>\n      <td>2.0</td>\n      <td>10.0</td>\n      <td>120.0</td>\n    </tr>\n    <tr>\n      <th>2</th>\n      <td>08 Ela</td>\n      <td>අටේ ඇල</td>\n      <td>LK2121105</td>\n      <td>3.0</td>\n      <td>15.0</td>\n      <td>180.0</td>\n    </tr>\n    <tr>\n      <th>3</th>\n      <td>18A. Janapadaya</td>\n      <td>18 A ජනපදය</td>\n      <td>LK5242140</td>\n      <td>4.0</td>\n      <td>20.0</td>\n      <td>240.0</td>\n    </tr>\n    <tr>\n      <th>4</th>\n      <td>2 Ela - Kagama</td>\n      <td>කාගම ඇල 2</td>\n      <td>LK7160115</td>\n      <td>5.0</td>\n      <td>25.0</td>\n      <td>300.0</td>\n    </tr>\n  </tbody>\n</table>\n</div>"
     },
     "execution_count": 13,
     "metadata": {},
     "output_type": "execute_result"
    }
   ],
   "source": [
    "# loading aditional data\n",
    "gn_a=pd.read_csv('grama_niladari_aditional_data.csv')\n",
    "gn_a.rename(columns={'admin4Pcode':'ADM4_PCODE'}, inplace=True)\n",
    "gn_a.head()"
   ]
  },
  {
   "cell_type": "code",
   "execution_count": 14,
   "metadata": {},
   "outputs": [
    {
     "data": {
      "text/plain": "  ADM4_PCODE                                           geometry  \\\n0  LK7142090  POLYGON ((80.23123 8.18024, 80.23082 8.18030, ...   \n1  LK6224040  POLYGON ((80.02773 7.95962, 80.02773 7.95962, ...   \n2  LK2121105  POLYGON ((80.96122 7.38586, 80.96133 7.38591, ...   \n3  LK5242140  POLYGON ((81.73889 7.16753, 81.73871 7.16744, ...   \n4  LK4100000  POLYGON ((80.25787 9.62729, 80.25784 9.62726, ...   \n\n     admin4Name_en admin4Name_si  risk_level     patients   population  \n0    04 1/2 Kanuwa      4 ½ කණුව    1.000000     5.000000     60.00000  \n1     07 Gammanaya  7 වන ගම්මානය    2.000000    10.000000    120.00000  \n2           08 Ela        අටේ ඇල    3.000000    15.000000    180.00000  \n3  18A. Janapadaya    18 A ජනපදය    4.000000    20.000000    240.00000  \n4        [unknown]     [unknown]  376.868743  1884.343715  22612.12458  ",
      "text/html": "<div>\n<style scoped>\n    .dataframe tbody tr th:only-of-type {\n        vertical-align: middle;\n    }\n\n    .dataframe tbody tr th {\n        vertical-align: top;\n    }\n\n    .dataframe thead th {\n        text-align: right;\n    }\n</style>\n<table border=\"1\" class=\"dataframe\">\n  <thead>\n    <tr style=\"text-align: right;\">\n      <th></th>\n      <th>ADM4_PCODE</th>\n      <th>geometry</th>\n      <th>admin4Name_en</th>\n      <th>admin4Name_si</th>\n      <th>risk_level</th>\n      <th>patients</th>\n      <th>population</th>\n    </tr>\n  </thead>\n  <tbody>\n    <tr>\n      <th>0</th>\n      <td>LK7142090</td>\n      <td>POLYGON ((80.23123 8.18024, 80.23082 8.18030, ...</td>\n      <td>04 1/2 Kanuwa</td>\n      <td>4 ½ කණුව</td>\n      <td>1.000000</td>\n      <td>5.000000</td>\n      <td>60.00000</td>\n    </tr>\n    <tr>\n      <th>1</th>\n      <td>LK6224040</td>\n      <td>POLYGON ((80.02773 7.95962, 80.02773 7.95962, ...</td>\n      <td>07 Gammanaya</td>\n      <td>7 වන ගම්මානය</td>\n      <td>2.000000</td>\n      <td>10.000000</td>\n      <td>120.00000</td>\n    </tr>\n    <tr>\n      <th>2</th>\n      <td>LK2121105</td>\n      <td>POLYGON ((80.96122 7.38586, 80.96133 7.38591, ...</td>\n      <td>08 Ela</td>\n      <td>අටේ ඇල</td>\n      <td>3.000000</td>\n      <td>15.000000</td>\n      <td>180.00000</td>\n    </tr>\n    <tr>\n      <th>3</th>\n      <td>LK5242140</td>\n      <td>POLYGON ((81.73889 7.16753, 81.73871 7.16744, ...</td>\n      <td>18A. Janapadaya</td>\n      <td>18 A ජනපදය</td>\n      <td>4.000000</td>\n      <td>20.000000</td>\n      <td>240.00000</td>\n    </tr>\n    <tr>\n      <th>4</th>\n      <td>LK4100000</td>\n      <td>POLYGON ((80.25787 9.62729, 80.25784 9.62726, ...</td>\n      <td>[unknown]</td>\n      <td>[unknown]</td>\n      <td>376.868743</td>\n      <td>1884.343715</td>\n      <td>22612.12458</td>\n    </tr>\n  </tbody>\n</table>\n</div>"
     },
     "execution_count": 14,
     "metadata": {},
     "output_type": "execute_result"
    }
   ],
   "source": [
    "grama=gng.merge(gn_a,on=\"ADM4_PCODE\")\n",
    "grama.head()"
   ]
  },
  {
   "cell_type": "code",
   "execution_count": 15,
   "metadata": {},
   "outputs": [
    {
     "data": {
      "text/plain": "<folium.map.LayerControl at 0x7fe0f76e89b0>"
     },
     "execution_count": 15,
     "metadata": {},
     "output_type": "execute_result"
    }
   ],
   "source": [
    "# Defining the style function and Highlight function \n",
    "\n",
    "style_function = lambda x: {'fillColor': '#ffffff', \n",
    "                            'color':'#000000', \n",
    "                            'fillOpacity': 0.1, \n",
    "                            'weight': 0.1}\n",
    "highlight_function = lambda x: {'fillColor': '#000000', \n",
    "                                'color':'#000000', \n",
    "                                'fillOpacity': 0.50, \n",
    "                                'weight': 0.1}\n",
    "\n",
    "\n",
    "\n",
    "# declaring the map with starting point\n",
    "m = folium.Map(location=[7.8731, 80.7718], zoom_start=8)\n",
    "\n",
    "choropleth=folium.Choropleth(\n",
    "    geo_data=grama,\n",
    "    name='choropleth',\n",
    "    data= grama,\n",
    "    columns=['ADM4_PCODE', 'risk_level'],\n",
    "    key_on='properties.ADM4_PCODE',\n",
    "    fill_color='RdPu',\n",
    "    fill_opacity=0.7,\n",
    "    line_opacity=0.2,\n",
    "    \n",
    "    legend_name='Covid-19 risk Level with dummy data',\n",
    "\n",
    ").add_to(m)\n",
    "\n",
    "# adding some geo loacation (location pins )\n",
    "\n",
    "folium.Marker(\n",
    "    location=[6.905655, 79.927357],\n",
    "    popup='Point one',\n",
    "    \n",
    "    icon=folium.Icon(icon='cloud')\n",
    ").add_to(m)\n",
    "\n",
    "folium.Marker(\n",
    "    location=[6.7106,79.9074],\n",
    "    popup='Point two',\n",
    "    icon=folium.Icon(color='red', icon='info-sign')\n",
    ").add_to(m)\n",
    "\n",
    "folium.Marker(\n",
    "    location=[7.9403,81.01886823],\n",
    "    popup='Point three',\n",
    "    icon=folium.Icon(color='blue', icon='bar-chart')\n",
    ").add_to(m)\n",
    "\n",
    "folium.Marker(\n",
    "    location=[9.3803, 80.3770],\n",
    "    popup='Point four',\n",
    "    icon=folium.Icon(color='red', icon='university')\n",
    ").add_to(m)\n",
    "\n",
    "#adding the same geo layer again on top of previouse layer to make interactivity \n",
    "\n",
    "INT = folium.features.GeoJson(\n",
    "    grama,\n",
    "    style_function=style_function, \n",
    "    control=False,\n",
    "    highlight_function=highlight_function, \n",
    "    tooltip=folium.features.GeoJsonTooltip(\n",
    "        fields=['admin4Name_en','patients','population'],\n",
    "        aliases=['GN name: ','Numer of Patients:','Population'],\n",
    "        style=(\"background-color: white; color: #333333; font-family: arial; font-size: 12px; padding: 10px;\") \n",
    "    )\n",
    ")\n",
    "m.add_child(INT)\n",
    "m.keep_in_front(INT)\n",
    "folium.LayerControl().add_to(m)\n"
   ]
  },
  {
   "cell_type": "code",
   "execution_count": 16,
   "metadata": {
    "pycharm": {
     "name": "#%%\n"
    }
   },
   "outputs": [],
   "source": [
    "m.save('grama_niladari.html')\n",
    "\n"
   ]
  }
 ],
 "metadata": {
  "kernelspec": {
   "display_name": "Python 3",
   "language": "python",
   "name": "python3"
  },
  "language_info": {
   "codemirror_mode": {
    "name": "ipython",
    "version": 3
   },
   "file_extension": ".py",
   "mimetype": "text/x-python",
   "name": "python",
   "nbconvert_exporter": "python",
   "pygments_lexer": "ipython3",
   "version": "3.7.1"
  }
 },
 "nbformat": 4,
 "nbformat_minor": 4
}